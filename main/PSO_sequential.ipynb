{
 "cells": [
  {
   "cell_type": "markdown",
   "id": "b452d0ba",
   "metadata": {},
   "source": [
    "# Implementación de Optimización por enjambre de partículas (PSO)\n",
    "> **Nombres:** \\\n",
    " Benites Onofre Fernando Gabriel \\\n",
    " Barajas Ruíz Leslie"
   ]
  },
  {
   "cell_type": "markdown",
   "id": "7fea6236",
   "metadata": {},
   "source": [
    "``` \n",
    "Establece el modelo matemático describiendo sus etapas, elabora el algoritmo secuencial del PSO, desarrolla un conjunto de pruebas (al menos 2), implementa el algoritmo secuencial, lleva acabo la ejecución correcta de las pruebas. \n",
    "```"
   ]
  },
  {
   "cell_type": "markdown",
   "id": "335d0b0a",
   "metadata": {},
   "source": [
    "## Modelo Matemático para describir etapas\n"
   ]
  },
  {
   "cell_type": "markdown",
   "id": "b728c1be",
   "metadata": {},
   "source": [
    "En primer lugar, vemos las etapas del algoritmo de PSO, con base a eso, lo describiremos en cada etapa.\n",
    "> -> **Inicializar la población de las partículas** \\\n",
    "-> **Evaluar la población en la función objetivo y elegir la mejor partícula** \\\n",
    "-> **while (criterio de paro)** \\\n",
    "-> **for (todas las partículas en todas las dimensiones)** \\\n",
    "-> **Generar una nueva velocidad** \\\n",
    "-> **Calcular una nueva posición** \\\n",
    "-> **Evaluar la función objetivo y elegir la mejor partícula** \\\n",
    "-> **end for** \\\n",
    "-> **Actualizar la mejor partícula de la población** \\\n",
    "-> **end while**"
   ]
  },
  {
   "cell_type": "markdown",
   "id": "6aa9523b",
   "metadata": {},
   "source": [
    "De esta manera describamos cada etapa en el mismo orden en que se enlistaron: Sea P la población de las partículas\n",
    "- La inicialización de las partículas depende de asignarles a cada partícula una posición aleatoria, es decir: Sea $X^i(t=1)$ la posición de la i-ésima Partícula en la primer iteración $(t=1)$, es decir $$X^i(t=1) = rand(d, [-10,10])$$ donde d es la dimensión del espacio de la Población. En el caso de inicializar la velocidad, también lo hacemos de manera aleatoria $$V^i(t=1) = rand(d, [-10,10])$$\n",
    "- La función objetivo que utlizaremos es la siguiente: $$f(X) = \\sum_{i=1}^{d-1} (100(x_i - x_{i+1})^2 + (x_i - 1)^2), \\quad x_i\\in[-10,10]$$ En el caso de la mejor partícula, en ésta nos limitaremos a elegir el mínimo de la función anteriormente descrita, es decir $$best\\_X := min\\{f(X_i):X_i\\in P\\}$$\n",
    "- Nuestro criterio de paro depende del número de iteraciones, en este caso será $N\\_paro = 500$.\n",
    "- Al entrar en el **for** tenemos la ecuación para generar las nuevas velocidades y posiciones $${\\bf{\\text{Nueva velocidad }}}V^{i}(t+1) = V^{i}(t) + rand1(pbest^{i} - X^t(t)) + rand2(gbest-X^{t}(t))$$ $${\\bf{\\text{Nueva posición }}}X^i(t+1) = X^i(t) + V^i (t+1)$$ donde $pbest^{i}$ es la mejor i-ésima partícula (local). $gbest$ es la mejor partícula global.\n",
    "- Al actualizar la mejor partícula de la población, simplemente vemos si en alguna iteración del for se consiguió un \"mejor\" mínimo. "
   ]
  },
  {
   "cell_type": "markdown",
   "id": "313b4c6f",
   "metadata": {},
   "source": [
    "## Algoritmo secuencial"
   ]
  },
  {
   "cell_type": "code",
   "execution_count": 1,
   "id": "a536a415",
   "metadata": {},
   "outputs": [],
   "source": [
    "import numpy as np\n",
    "# %matplotlib inline\n",
    "# import numpy as np\n",
    "# import matplotlib.pyplot as plt\n",
    "from time import time"
   ]
  },
  {
   "cell_type": "code",
   "execution_count": 2,
   "id": "1d1291d4",
   "metadata": {},
   "outputs": [],
   "source": [
    "# Función objetivo\n",
    "\n",
    "def Rosenbrock(x):\n",
    "    d = len(x) # Dimensión de nuestro espacio\n",
    "    total_sum = 0\n",
    "    for i in range(d-1):\n",
    "        total_sum += 100*(-x[i]**2 + x[i+1])**2 + (x[i]-1)**2\n",
    "    return total_sum\n",
    "\n",
    "# Función objetivo extra para pruebas con mínimo global en (0,0) y f = 0\n",
    "\n",
    "def f_x2y2(x): # función definida sólo para R^2 (dimensión 2)\n",
    "    return x[0]**2 + x[1]**2"
   ]
  },
  {
   "cell_type": "code",
   "execution_count": 3,
   "id": "c3a5f0e3",
   "metadata": {},
   "outputs": [],
   "source": [
    "# Implementación secuencial\n",
    "\n",
    "def PSO_sequential(n_P, d, l, u, f):\n",
    "    # Inicialización \n",
    "    X = np.zeros((n_P, d))\n",
    "    V = np.zeros((n_P, d))\n",
    "    \n",
    "    for i in range(n_P):\n",
    "        for j in range(d):\n",
    "            X[i][j] += l + np.random.rand(u-l)[0]\n",
    "    \n",
    "    for i in range(n_P):\n",
    "        for j in range(d):\n",
    "            V[i][j] += np.random.rand(1)\n",
    "            \n",
    "    # Evaluar la población en la función objetivo y elegir la mejor partícula\n",
    "    pbest = X # local\n",
    "    gbest_f = f(X[0]) # global\n",
    "    gbest = X[0]\n",
    "    \n",
    "    for i in range(1,len(X)):\n",
    "        new_val_f = f(X[i])\n",
    "        if new_val_f < f(X[0]):\n",
    "            gbest_f = new_val_f\n",
    "            gbest = X[i]\n",
    "            \n",
    "    # while (condición de paro)\n",
    "    stop_condition = 500 \n",
    "    while stop_condition > 0: \n",
    "        for i in range(len(X)):\n",
    "            # Nueva velocidad  \n",
    "            V = V + np.random.rand(1)[0]*(pbest - X) + np.random.rand(1)[0]*(gbest - X)\n",
    "            # Nueva posición\n",
    "            X = X + V\n",
    "                \n",
    "            if f(pbest[i]) > f(X[i]):\n",
    "                pbest[i] = X[i]\n",
    "                \n",
    "        for i in pbest:\n",
    "            # Evaluar función objetivo y elegir mejor partícula\n",
    "            if f(i) < f(gbest):\n",
    "                gbest = i\n",
    "                \n",
    "        stop_condition -= 1\n",
    "\n",
    "    return pbest, gbest, f(gbest) "
   ]
  },
  {
   "cell_type": "code",
   "execution_count": 6,
   "id": "d05228bd",
   "metadata": {
    "scrolled": false
   },
   "outputs": [
    {
     "name": "stdout",
     "output_type": "stream",
     "text": [
      "Primer test con mínimo en [1,1] f=0, con algoritmo nos dice que la aproximación es [0.57135941 0.30838778] y función valuada = 0.21636282380506527\n"
     ]
    },
    {
     "name": "stderr",
     "output_type": "stream",
     "text": [
      "/var/folders/ln/r540h4b11mv526rjsf8_kdy40000gn/T/ipykernel_4305/4220155902.py:7: RuntimeWarning: overflow encountered in double_scalars\n",
      "  total_sum += 100*(-x[i]**2 + x[i+1])**2 + (x[i]-1)**2\n"
     ]
    }
   ],
   "source": [
    "# test con función de Rosenbrock\n",
    "pbest1, gbest1, f1 = PSO_sequential(20, 2, -5, 10, Rosenbrock)\n",
    "print(f'Primer test con mínimo en [1,1] f=0, con algoritmo nos dice que la aproximación es {gbest1} y función valuada = {Rosenbrock(gbest1)}')"
   ]
  },
  {
   "cell_type": "code",
   "execution_count": 8,
   "id": "001cf0c1",
   "metadata": {},
   "outputs": [
    {
     "name": "stdout",
     "output_type": "stream",
     "text": [
      "Segundo test con mínimo en [0,0] f=0, con algoritmo nos dice que la aproximación es [-0.32427485  0.08629596] y función valua = 0.11260117277832542\n"
     ]
    }
   ],
   "source": [
    "# test con la función f = x^2 + y^2\n",
    "pbest2, gbest2, f2 = PSO_sequential(20, 2, -5, 10, f_x2y2)\n",
    "print(f'Segundo test con mínimo en [0,0] f=0, con algoritmo nos dice que la aproximación es {gbest2} y función valua = {f_x2y2(gbest2)}')"
   ]
  },
  {
   "cell_type": "markdown",
   "id": "d030ae41",
   "metadata": {},
   "source": [
    "#### Para el ánalisis de escalabilidad, pondremos a prueba nuestra función para ciertas cantidades de partículas."
   ]
  },
  {
   "cell_type": "code",
   "execution_count": 51,
   "id": "879ea99d",
   "metadata": {},
   "outputs": [
    {
     "name": "stderr",
     "output_type": "stream",
     "text": [
      "C:\\Users\\User\\AppData\\Local\\Temp\\ipykernel_15336\\2759254098.py:7: RuntimeWarning: overflow encountered in double_scalars\n",
      "  total_sum += 100*(-x[i]**2 + x[i+1])**2 + (x[i]-1)**2\n",
      "C:\\Users\\User\\AppData\\Local\\Temp\\ipykernel_15336\\288968769.py:34: RuntimeWarning: overflow encountered in add\n",
      "  X = X + V\n",
      "C:\\Users\\User\\AppData\\Local\\Temp\\ipykernel_15336\\288968769.py:34: RuntimeWarning: invalid value encountered in add\n",
      "  X = X + V\n",
      "C:\\Users\\User\\AppData\\Local\\Temp\\ipykernel_15336\\288968769.py:32: RuntimeWarning: overflow encountered in add\n",
      "  V = V + np.random.rand(1)[0]*(pbest - X) + np.random.rand(1)[0]*(gbest - X)\n",
      "C:\\Users\\User\\AppData\\Local\\Temp\\ipykernel_15336\\288968769.py:32: RuntimeWarning: invalid value encountered in add\n",
      "  V = V + np.random.rand(1)[0]*(pbest - X) + np.random.rand(1)[0]*(gbest - X)\n",
      "C:\\Users\\User\\AppData\\Local\\Temp\\ipykernel_15336\\2759254098.py:7: RuntimeWarning: invalid value encountered in double_scalars\n",
      "  total_sum += 100*(-x[i]**2 + x[i+1])**2 + (x[i]-1)**2\n"
     ]
    }
   ],
   "source": [
    "n_P = [50,100,200,300,400,500,600,700,800,900]\n",
    "list_times = []\n",
    "for i in n_P:\n",
    "    start_time = time()\n",
    "    PSO_sequential(i, 2, -5, 10, Rosenbrock)\n",
    "    final_time = time() - start_time\n",
    "    list_times.append(final_time)"
   ]
  },
  {
   "cell_type": "code",
   "execution_count": 50,
   "id": "c1146243",
   "metadata": {},
   "outputs": [
    {
     "data": {
      "image/png": "[encoded data removed]",
      "text/plain": [
       "<Figure size 432x288 with 1 Axes>"
      ]
     },
     "metadata": {
      "needs_background": "light"
     },
     "output_type": "display_data"
    }
   ],
   "source": [
    "# Crear la figura y los ejes\n",
    "fig, ax = plt.subplots()\n",
    "ax.scatter(x = n_P, y = list_times)\n",
    "plt.xlabel('Número de particulas')\n",
    "plt.ylabel('Tiempo de ejecución')\n",
    "plt.show()"
   ]
  }
 ],
 "metadata": {
  "kernelspec": {
   "display_name": "Python 3 (ipykernel)",
   "language": "python",
   "name": "python3"
  },
  "language_info": {
   "codemirror_mode": {
    "name": "ipython",
    "version": 3
   },
   "file_extension": ".py",
   "mimetype": "text/x-python",
   "name": "python",
   "nbconvert_exporter": "python",
   "pygments_lexer": "ipython3",
   "version": "3.8.12"
  }
 },
 "nbformat": 4,
 "nbformat_minor": 5
}
